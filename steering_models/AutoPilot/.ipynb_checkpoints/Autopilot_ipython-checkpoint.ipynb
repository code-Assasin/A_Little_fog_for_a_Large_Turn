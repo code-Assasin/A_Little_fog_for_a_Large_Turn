{
 "cells": [
  {
   "cell_type": "code",
   "execution_count": 1,
   "metadata": {},
   "outputs": [],
   "source": [
    "# Code implements AutoPilot with one extra layer.. the conv6 to reduce dimension\n",
    "\n",
    "from __future__ import print_function\n",
    "import torch\n",
    "import torch.nn as nn\n",
    "import torchvision\n",
    "import torchvision.transforms as transforms\n",
    "import scipy.misc\n",
    "import random\n",
    "import numpy as np\n",
    "\n",
    "device = torch.device('cuda' if torch.cuda.is_available() else 'cpu')\n",
    "\n",
    "class AutoPilot(nn.Module):\n",
    "\tdef __init__(self, fc1_size, prob):\n",
    "\t\tsuper(AutoPilot, self).__init__()\n",
    "\t\t# Default bias for all is true\n",
    "\t\tself.conv1 = nn.Sequential(nn.Conv2d(3, 24, kernel_size = 5, stride = 2), nn.ReLU())\n",
    "\t\tself.conv2 = nn.Sequential(nn.Conv2d(24, 36, kernel_size = 5, stride = 2), nn.ReLU())\n",
    "\t\tself.conv3 = nn.Sequential(nn.Conv2d(36, 48, kernel_size = 5, stride = 2), nn.ReLU())\n",
    "\t\tself.conv4 = nn.Sequential(nn.Conv2d(48, 64, kernel_size = 3, stride = 1), nn.ReLU())\n",
    "\t\tself.conv5 = nn.Sequential(nn.Conv2d(64, 64, kernel_size = 3, stride = 1), nn.ReLU())\n",
    "\t\t# To bring down the size to 7x7 one extra layer as mentioned\n",
    "\t\tself.conv6 = nn.Sequential(nn.Conv2d(64, 64, kernel_size = 3, stride = 1), nn.ReLU())\n",
    "\n",
    "\t\tself.fc1 = nn.Sequential(nn.Linear(fc1_size, 1164), nn.ReLU(), nn.Dropout(prob))\n",
    "\t\tself.fc2 = nn.Sequential(nn.Linear(1164, 100), nn.ReLU(), nn.Dropout(prob))\n",
    "\t\tself.fc3 = nn.Sequential(nn.Linear(100, 50),nn.ReLU(), nn.Dropout(prob))\n",
    "\t\tself.fc4 = nn.Sequential(nn.Linear(50, 10),nn.ReLU(), nn.Dropout(prob))\n",
    "\t\tself.fc5 = nn.Sequential(nn.Linear(10, 1))\n",
    "\n",
    "\tdef forward(self, x):\n",
    "\t\tout = self.conv1(x)\n",
    "\t\tout = self.conv2(out)\n",
    "\t\tout = self.conv3(out)\n",
    "\t\tout = self.conv4(out)\t\t\n",
    "\t\tout = self.conv5(out)\n",
    "\t\tout = self.conv6(out)\n",
    "\t\t#flatten layer\n",
    "\t\tout_size = list(out.size())\n",
    "\t\tprint(out_size)\n",
    "\t\t# out_size[0] -->batch_size or test size as desired\n",
    "\t\tout = out.reshape(out_size[0], -1)\n",
    "\t\t# print(out.size())\n",
    "\t\tout = self.fc1(out)\n",
    "\t\tout = self.fc2(out)\n",
    "\t\tout = self.fc3(out)\n",
    "\t\tout = self.fc4(out)\n",
    "\t\tout = self.fc5(out)\n",
    "\t\tout = torch.mul(torch.atan(out),2)\n",
    "\t\treturn out"
   ]
  },
  {
   "cell_type": "code",
   "execution_count": 6,
   "metadata": {},
   "outputs": [
    {
     "name": "stdout",
     "output_type": "stream",
     "text": [
      "[-0.06161012259539983, -0.033510321638291124, -0.21293016874330817, -2.581865562475212, 0.0, -0.19006635554218249, 0.38711402809234224, -0.01937315469713706, -0.0158824961931484, 0.04223696789826277]\n"
     ]
    }
   ],
   "source": [
    "# Preprocess data\n",
    "\n",
    "dim1 = 128\n",
    "dim2 = 128\n",
    "channels = 3\n",
    "\n",
    "xs_train = []\n",
    "ys_train = []\n",
    "#read data.txt\n",
    "with open(\"/home/harshitha/o_sully_zurich_m/full_orig_data_sully_chen/steering_model_train_test/train_data.txt\") as f:\n",
    "\tfor line in f:\n",
    "\t\txs_train.append(\"/home/harshitha/o_sully_zurich_m/full_orig_data_sully_chen/steering_model_train_test/train/\" + line.split()[0])\n",
    "\t\tys_train.append(float(line.split()[1]) * scipy.pi / 180)\n",
    "        \n",
    "#get number of images\n",
    "num_images_total_train = len(xs_train)\n",
    "\n",
    "train_X = xs_train[:int(num_images_total_train)]\n",
    "train_Y = ys_train[:int(num_images_total_train)]"
   ]
  },
  {
   "cell_type": "code",
   "execution_count": null,
   "metadata": {},
   "outputs": [],
   "source": []
  },
  {
   "cell_type": "code",
   "execution_count": null,
   "metadata": {},
   "outputs": [],
   "source": []
  }
 ],
 "metadata": {
  "kernelspec": {
   "display_name": "Python 3",
   "language": "python",
   "name": "python3"
  },
  "language_info": {
   "codemirror_mode": {
    "name": "ipython",
    "version": 3
   },
   "file_extension": ".py",
   "mimetype": "text/x-python",
   "name": "python",
   "nbconvert_exporter": "python",
   "pygments_lexer": "ipython3",
   "version": "3.7.1"
  }
 },
 "nbformat": 4,
 "nbformat_minor": 2
}
